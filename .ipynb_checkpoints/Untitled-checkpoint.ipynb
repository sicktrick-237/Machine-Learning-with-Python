{
 "cells": [
  {
   "cell_type": "code",
   "execution_count": null,
   "metadata": {},
   "outputs": [],
   "source": [
    "import csv\n",
    "import random\n",
    "import pandas as pd\n",
    "\n",
    "doy = {'year':[],'age':[]}\n",
    "\n",
    "cy = 2019\n",
    "\n",
    "for i in range(2):\n",
    "    year = int(input(\"Enter Year : \"))\n",
    "    age = cy - year\n",
    "    doy['year'].append(year)\n",
    "    doy['age'].append(age)\n",
    "print(doy)\n",
    "\n",
    "df = pd.Dataframe(doy)\n",
    "df.to_csv(\"C:\\Users\\Omkar\\Documents\\Machine-Learning-with-Python\\DOY.csv\")"
   ]
  },
  {
   "cell_type": "code",
   "execution_count": null,
   "metadata": {},
   "outputs": [],
   "source": []
  }
 ],
 "metadata": {
  "kernelspec": {
   "display_name": "Python 3",
   "language": "python",
   "name": "python3"
  },
  "language_info": {
   "codemirror_mode": {
    "name": "ipython",
    "version": 3
   },
   "file_extension": ".py",
   "mimetype": "text/x-python",
   "name": "python",
   "nbconvert_exporter": "python",
   "pygments_lexer": "ipython3",
   "version": "3.7.3"
  }
 },
 "nbformat": 4,
 "nbformat_minor": 2
}
