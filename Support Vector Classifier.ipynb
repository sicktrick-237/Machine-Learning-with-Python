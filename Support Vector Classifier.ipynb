{
 "cells": [
  {
   "cell_type": "code",
   "execution_count": 1,
   "metadata": {},
   "outputs": [],
   "source": [
    "# Support Vector Classifier are based on vectors, which are independent points in the graph\n",
    "# Each SVM is defined with a kernal which specifies the dimentionality of a dataset\n",
    "# Kernals are \n",
    "# Linear - To Classify the dataset based on linear 2-D Dataset.\n",
    "# RBF - \n",
    "# Sigmoid - To CLassify the dataset based on 'S'\n",
    "# ploy - \n",
    "# precomputed"
   ]
  },
  {
   "cell_type": "code",
   "execution_count": 12,
   "metadata": {},
   "outputs": [
    {
     "name": "stdout",
     "output_type": "stream",
     "text": [
      "SVC 1.0\n",
      "DTC 1.0\n"
     ]
    },
    {
     "data": {
      "text/plain": [
       "<BarContainer object of 2 artists>"
      ]
     },
     "execution_count": 12,
     "metadata": {},
     "output_type": "execute_result"
    },
    {
     "data": {
      "image/png": "[encoded data removed]",
      "text/plain": [
       "<Figure size 432x288 with 1 Axes>"
      ]
     },
     "metadata": {
      "needs_background": "light"
     },
     "output_type": "display_data"
    }
   ],
   "source": [
    "import pandas as pd\n",
    "from sklearn.model_selection import train_test_split\n",
    "from sklearn.datasets import load_iris\n",
    "from sklearn import metrics\n",
    "from matplotlib import pyplot as plt\n",
    "from sklearn.svm import SVC\n",
    "from sklearn.tree import DecisionTreeClassifier\n",
    "\n",
    "\n",
    "iris=load_iris()\n",
    "\n",
    "dataset = pd.DataFrame({\n",
    "    'sepal_length':iris.data[:,0],\n",
    "    'sepal_width':iris.data[:,1],\n",
    "    'petal_length':iris.data[:,2],\n",
    "    'petal_width':iris.data[:,3],\n",
    "    'Class':iris.target\n",
    "})\n",
    "\n",
    "X = dataset.drop('Class',axis=1)\n",
    "y = dataset['Class']\n",
    "\n",
    "'''\n",
    "df = pd.read_csv('wt-ht.csv')\n",
    "X = df.drop(['Gender','Height'],axis=1) # Stored wt and ht in X by dropping Class\n",
    "# Dropping Height and Weight each iteratively decreases and increases the accuracy score\n",
    "y = df['Gender'] # Storing only Class\n",
    "'''\n",
    "details = {}\n",
    "X_train,X_test,y_train,y_test = train_test_split(X,y,test_size=0.2,random_state=0)\n",
    "\n",
    "# SVC\n",
    "classifier = SVC(kernel='poly',gamma='auto')\n",
    "classifier.fit(X_train,y_train)\n",
    "y_pred = classifier.predict(X_test)\n",
    "details[\"SVC\"] = metrics.accuracy_score(y_test,y_pred)\n",
    "\n",
    "\n",
    "# DTC\n",
    "classifier = DecisionTreeClassifier()\n",
    "classifier.fit(X_train,y_train)\n",
    "y_pred = classifier.predict(X_test)\n",
    "details['DTC'] = metrics.accuracy_score(y_test,y_pred)\n",
    "print(\"SVC\",details['SVC'])\n",
    "print(\"DTC\",details['DTC'])\n",
    "\n",
    "\n",
    "\n",
    "plt.bar(details.keys(),details.values())"
   ]
  },
  {
   "cell_type": "code",
   "execution_count": null,
   "metadata": {},
   "outputs": [],
   "source": []
  }
 ],
 "metadata": {
  "kernelspec": {
   "display_name": "Python 3",
   "language": "python",
   "name": "python3"
  },
  "language_info": {
   "codemirror_mode": {
    "name": "ipython",
    "version": 3
   },
   "file_extension": ".py",
   "mimetype": "text/x-python",
   "name": "python",
   "nbconvert_exporter": "python",
   "pygments_lexer": "ipython3",
   "version": "3.7.3"
  }
 },
 "nbformat": 4,
 "nbformat_minor": 2
}
