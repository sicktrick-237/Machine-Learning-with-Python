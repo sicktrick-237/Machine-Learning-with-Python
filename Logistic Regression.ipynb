{
 "cells": [
  {
   "cell_type": "code",
   "execution_count": 81,
   "metadata": {},
   "outputs": [
    {
     "name": "stderr",
     "output_type": "stream",
     "text": [
      "C:\\Users\\Omkar\\Anaconda3\\lib\\site-packages\\sklearn\\linear_model\\logistic.py:433: FutureWarning: Default solver will be changed to 'lbfgs' in 0.22. Specify a solver to silence this warning.\n",
      "  FutureWarning)\n"
     ]
    },
    {
     "data": {
      "text/plain": [
       "(array(['young', 'old', 'old'], dtype=object), 3     young\n",
       " 7       old\n",
       " 18      old\n",
       " Name: class, dtype: object)"
      ]
     },
     "execution_count": 81,
     "metadata": {},
     "output_type": "execute_result"
    }
   ],
   "source": [
    "import pandas as pd\n",
    "from sklearn.linear_model import LogisticRegression\n",
    "from sklearn.model_selection import train_test_split\n",
    "\n",
    "data = pd.read_csv('DOY.csv')\n",
    "data\n",
    "\n",
    "x = data[[\"year\",\"age\"]]\n",
    "y = data[\"class\"]\n",
    "\n",
    "xtrain,xtest,ytrain,ytest = train_test_split(x,y,test_size=0.1) # Here 0.2 specifies the 0.2 percent of total data size goes to test data\n",
    "\n",
    "log = LogisticRegression()\n",
    "log.fit(xtrain,ytrain) # Here the training data is sent to model to train the set\n",
    "\n",
    "ypred = log.predict(xtest)\n",
    "ypred,ytest\n"
   ]
  },
  {
   "cell_type": "code",
   "execution_count": 82,
   "metadata": {},
   "outputs": [
    {
     "name": "stdout",
     "output_type": "stream",
     "text": [
      "Actual :  young Predicted :  young\n",
      "Actual :  old Predicted :  old\n",
      "Actual :  old Predicted :  old\n"
     ]
    },
    {
     "data": {
      "text/plain": [
       "{'TP': 2, 'FP': 0, 'FN': 0, 'TN': 1}"
      ]
     },
     "execution_count": 82,
     "metadata": {},
     "output_type": "execute_result"
    }
   ],
   "source": [
    "# Confusion matrix\n",
    "# [TP|FP]\n",
    "# [FN|TN]\n",
    "conf_mat = {}\n",
    "vals = ['TP','FP','FN','TN']\n",
    "for each in vals:\n",
    "    conf_mat[each] = 0\n",
    "conf_mat\n",
    "\n",
    "\n",
    "for idx,val in enumerate(ytest):\n",
    "    print(\"Actual : \",val,\"Predicted : \",ypred[idx])\n",
    "    if val == 'old' and ypred[idx] == 'old':\n",
    "        conf_mat['TP'] +=1\n",
    "    elif val == 'young' and ypred[idx] == 'young':\n",
    "        conf_mat['TN'] +=1\n",
    "    elif val == 'old' and ypred[idx] == 'young':\n",
    "        conf_mat['FP'] +=1\n",
    "    elif val == 'young' and ypred[idx] == 'old':\n",
    "        conf_mat['FN'] +=1\n",
    "conf_mat\n",
    "\n",
    "\n",
    "# Inbuild Method \n",
    "# Check confusion matrix and accuracy score"
   ]
  },
  {
   "cell_type": "code",
   "execution_count": null,
   "metadata": {},
   "outputs": [],
   "source": [
    "# Confusion Matrix\n",
    "'''\n",
    "Yes - Yes : TP\n",
    "No - No : TN\n",
    "Yes - No : FP\n",
    "No - Yes : FN\n",
    "'''"
   ]
  },
  {
   "cell_type": "code",
   "execution_count": null,
   "metadata": {},
   "outputs": [],
   "source": []
  }
 ],
 "metadata": {
  "kernelspec": {
   "display_name": "Python 3",
   "language": "python",
   "name": "python3"
  },
  "language_info": {
   "codemirror_mode": {
    "name": "ipython",
    "version": 3
   },
   "file_extension": ".py",
   "mimetype": "text/x-python",
   "name": "python",
   "nbconvert_exporter": "python",
   "pygments_lexer": "ipython3",
   "version": "3.7.3"
  }
 },
 "nbformat": 4,
 "nbformat_minor": 2
}
