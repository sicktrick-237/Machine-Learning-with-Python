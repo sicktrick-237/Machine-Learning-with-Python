{
 "cells": [
  {
   "cell_type": "code",
   "execution_count": 1,
   "metadata": {},
   "outputs": [
    {
     "data": {
      "text/plain": [
       "\"\\nK-Means is a classification algorithm which clusters the data based on Mean value of 'K' Clusters\\n\\n# Phase - I\\n1. Define 'K' based on Data. It needs to be an input\\n2. Cluster Formation\\nForm 'K' Clusters\\n3. Euclidian Distance\\nBased on number of params in data e.g.(height,weight) find the Euclidian Distance\\nThis will form a single array of elements\\n4. Mean Definition\\nDefine Mean of 'K' Clusters\\n5. Initialize Clusters\\nInsert each element till 'K' in 'K' clusters select 'K' elements randomly\\n6. Update Mean\\nUpdate mean of every 'K' cluster\\n7. Iterate\\nIterate till end of Data element in the cluster and compare each element with mean and insert in cluster with least deviation\\nRecalculate mean\\n\\n\\n# Refinement\\nThere might be a case where a single element will exist in every cluster\\nSo to overcome such deviations in clusters we need to refine the each clusters till there's no change in mean and number of elements in cluster\\nTo refine compare each element from every cluster with the mean of all cluster and decide whether it should stay in the same cluster or change\\n\""
      ]
     },
     "execution_count": 1,
     "metadata": {},
     "output_type": "execute_result"
    }
   ],
   "source": [
    "'''\n",
    "K-Means is a classification algorithm which clusters the data based on Mean value of 'K' Clusters\n",
    "\n",
    "# Phase - I\n",
    "1. Define 'K' based on Data. It needs to be an input\n",
    "2. Cluster Formation\n",
    "Form 'K' Clusters\n",
    "3. Euclidian Distance\n",
    "Based on number of params in data e.g.(height,weight) find the Euclidian Distance\n",
    "This will form a single array of elements\n",
    "4. Mean Definition\n",
    "Define Mean of 'K' Clusters\n",
    "5. Initialize Clusters\n",
    "Insert each element till 'K' in 'K' clusters select 'K' elements randomly\n",
    "6. Update Mean\n",
    "Update mean of every 'K' cluster\n",
    "7. Iterate\n",
    "Iterate till end of Data element in the cluster and compare each element with mean and insert in cluster with least deviation\n",
    "Recalculate mean\n",
    "\n",
    "\n",
    "# Refinement\n",
    "There might be a case where a single element will exist in every cluster\n",
    "So to overcome such deviations in clusters we need to refine the each clusters till there's no change in mean and number of elements in cluster\n",
    "To refine compare each element from every cluster with the mean of all cluster and decide whether it should stay in the same cluster or change\n",
    "'''"
   ]
  },
  {
   "cell_type": "code",
   "execution_count": null,
   "metadata": {},
   "outputs": [],
   "source": [
    "# Implement the K-Means Clustering"
   ]
  }
 ],
 "metadata": {
  "kernelspec": {
   "display_name": "Python 3",
   "language": "python",
   "name": "python3"
  },
  "language_info": {
   "codemirror_mode": {
    "name": "ipython",
    "version": 3
   },
   "file_extension": ".py",
   "mimetype": "text/x-python",
   "name": "python",
   "nbconvert_exporter": "python",
   "pygments_lexer": "ipython3",
   "version": "3.7.3"
  }
 },
 "nbformat": 4,
 "nbformat_minor": 2
}
