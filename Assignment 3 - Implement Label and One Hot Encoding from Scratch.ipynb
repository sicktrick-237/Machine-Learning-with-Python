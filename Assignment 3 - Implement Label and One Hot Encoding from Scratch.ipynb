{
 "cells": [
  {
   "cell_type": "code",
   "execution_count": 1,
   "metadata": {},
   "outputs": [],
   "source": [
    "# Label Encoding\n",
    "# Create a set of values\n",
    "# Create a dict and replace those values in original dataset\n",
    "# When replaced it'll be ready for classification further"
   ]
  },
  {
   "cell_type": "code",
   "execution_count": null,
   "metadata": {},
   "outputs": [],
   "source": []
  },
  {
   "cell_type": "code",
   "execution_count": 2,
   "metadata": {},
   "outputs": [],
   "source": [
    "# One Hot Encoding\n",
    "# Create a set of values\n",
    "# Create a new DF and insert those as columns along with GDP Column, drop original countries column\n",
    "# Init new columns with 0 as a value, then later on replace them with 1 as per the corresponding Country Serial Number\n",
    "# Check One Hot Encoding notebook\n",
    "# When replaced it'll be ready for classification further"
   ]
  },
  {
   "cell_type": "code",
   "execution_count": null,
   "metadata": {},
   "outputs": [],
   "source": []
  }
 ],
 "metadata": {
  "kernelspec": {
   "display_name": "Python 3",
   "language": "python",
   "name": "python3"
  },
  "language_info": {
   "codemirror_mode": {
    "name": "ipython",
    "version": 3
   },
   "file_extension": ".py",
   "mimetype": "text/x-python",
   "name": "python",
   "nbconvert_exporter": "python",
   "pygments_lexer": "ipython3",
   "version": "3.7.3"
  }
 },
 "nbformat": 4,
 "nbformat_minor": 2
}
