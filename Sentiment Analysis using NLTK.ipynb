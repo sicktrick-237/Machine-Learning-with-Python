{
 "cells": [
  {
   "cell_type": "code",
   "execution_count": null,
   "metadata": {},
   "outputs": [],
   "source": [
    "# Textual analysis\n",
    "# Given sentence, break down in mlutiple words.\n",
    "# Words can be stopwords or sentimental words i.e. positive or negative words"
   ]
  },
  {
   "cell_type": "code",
   "execution_count": null,
   "metadata": {},
   "outputs": [],
   "source": [
    "# Assignment : Take a sentence from user and based on the sentence given check if it is a good or bad word"
   ]
  },
  {
   "cell_type": "code",
   "execution_count": 54,
   "metadata": {},
   "outputs": [
    {
     "name": "stdout",
     "output_type": "stream",
     "text": [
      "Enter a Sentence : This is great ! Howdy !\n",
      "['This is great !', 'Howdy !']\n"
     ]
    }
   ],
   "source": [
    "import pandas as pd\n",
    "from nltk.tokenize import sent_tokenize\n",
    "sentence = input(\"Enter a Sentence : \")\n",
    "# wordslst = sentence.split(\" \")\n",
    "wordslst = sent_tokenize(sentence)\n",
    "print(wordslst)"
   ]
  },
  {
   "cell_type": "code",
   "execution_count": 45,
   "metadata": {},
   "outputs": [
    {
     "name": "stdout",
     "output_type": "stream",
     "text": [
      "['this', 'is', 'the', 'most', 'very', 'a', 'an', 'is']\n"
     ]
    }
   ],
   "source": [
    "stopwordscsv = pd.read_csv(\"stopwords.csv\")\n",
    "df = pd.DataFrame(stopwordscsv)\n",
    "stopwrdlst = list(df.words)\n",
    "print(stopwrdlst)"
   ]
  },
  {
   "cell_type": "code",
   "execution_count": 47,
   "metadata": {},
   "outputs": [
    {
     "name": "stdout",
     "output_type": "stream",
     "text": [
      "['great']\n"
     ]
    }
   ],
   "source": [
    "for word in list(wordslst):\n",
    "    if word.lower() in stopwrdlst or word in stopwrdlst:\n",
    "        wordslst.remove(word)\n",
    "print(wordslst)"
   ]
  },
  {
   "cell_type": "code",
   "execution_count": 37,
   "metadata": {},
   "outputs": [
    {
     "name": "stdout",
     "output_type": "stream",
     "text": [
      "['Good', 'amazing', 'best', 'nice', 'great']\n"
     ]
    }
   ],
   "source": [
    "# Positive Words\n",
    "poswordscsv = pd.read_csv(\"poswords.csv\")\n",
    "df = pd.DataFrame(poswordscsv)\n",
    "poswordslst = list(df.poswords)\n",
    "print(poswordslst)"
   ]
  },
  {
   "cell_type": "code",
   "execution_count": 38,
   "metadata": {},
   "outputs": [
    {
     "name": "stdout",
     "output_type": "stream",
     "text": [
      "['bad', 'scam', 'worst']\n"
     ]
    }
   ],
   "source": [
    "# Positive Words\n",
    "negwordscsv = pd.read_csv(\"negwords.csv\")\n",
    "df = pd.DataFrame(negwordscsv)\n",
    "negwordslst = list(df.negwords)\n",
    "print(negwordslst)"
   ]
  },
  {
   "cell_type": "code",
   "execution_count": 39,
   "metadata": {},
   "outputs": [],
   "source": [
    "# Compare the wordlist with the pos and negative words list"
   ]
  },
  {
   "cell_type": "code",
   "execution_count": 40,
   "metadata": {},
   "outputs": [
    {
     "name": "stdout",
     "output_type": "stream",
     "text": [
      "Sentence is negative\n"
     ]
    }
   ],
   "source": [
    "poscount = 0\n",
    "negcount = 0\n",
    "for each in wordslst:\n",
    "    if each in poswordslst or each.lower() in poswordslst:\n",
    "        poscount += 1\n",
    "    elif each in negwordslst or each.lower() in negwordslst:\n",
    "        negcount += 1\n",
    "if poscount > negcount:\n",
    "    print(\"Sentence is positive\")\n",
    "elif negcount> poscount:\n",
    "    print(\"Sentence is negative\")\n",
    "else:\n",
    "    print(\"Neutral Sentence\")"
   ]
  },
  {
   "cell_type": "code",
   "execution_count": null,
   "metadata": {},
   "outputs": [],
   "source": []
  },
  {
   "cell_type": "code",
   "execution_count": null,
   "metadata": {},
   "outputs": [],
   "source": []
  }
 ],
 "metadata": {
  "kernelspec": {
   "display_name": "Python 3",
   "language": "python",
   "name": "python3"
  },
  "language_info": {
   "codemirror_mode": {
    "name": "ipython",
    "version": 3
   },
   "file_extension": ".py",
   "mimetype": "text/x-python",
   "name": "python",
   "nbconvert_exporter": "python",
   "pygments_lexer": "ipython3",
   "version": "3.7.3"
  }
 },
 "nbformat": 4,
 "nbformat_minor": 2
}
