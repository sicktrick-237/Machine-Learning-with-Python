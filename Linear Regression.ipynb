{
 "cells": [
  {
   "cell_type": "code",
   "execution_count": null,
   "metadata": {},
   "outputs": [],
   "source": [
    "# After Missing Value Treatment\n",
    "# Use Linear Regression when output should be a numeric value"
   ]
  },
  {
   "cell_type": "code",
   "execution_count": null,
   "metadata": {},
   "outputs": [],
   "source": [
    "# There is dependent and independent var\n",
    "# Simple Linear Regression : Single Dependent Variables\n",
    "# Multiple Linear Regression : Multiple Dependent Variables\n",
    "# Example : Birth Year is independent var and age is a dependent variable (This is a Simple Linear Regression)"
   ]
  },
  {
   "cell_type": "code",
   "execution_count": null,
   "metadata": {},
   "outputs": [],
   "source": [
    "# y = mx + c : x and y are vars, also y value is based on change on x variable\n",
    "# In this equation y and x are avail with us we need to find m and c to complete the equation\n",
    "# After getting m and c, enter any year to calculate it's age"
   ]
  },
  {
   "cell_type": "code",
   "execution_count": 9,
   "metadata": {},
   "outputs": [
    {
     "name": "stdout",
     "output_type": "stream",
     "text": [
      "[1990 1998 2000 2001 2002 2003 2005] [29 21 19 18 17 16 14]\n",
      "-0.9999999999926659 2018.9999999853328\n",
      "Enter DOB : 2010\n",
      "Age is :  9\n"
     ]
    }
   ],
   "source": [
    "import pandas as pd\n",
    "import numpy as np\n",
    "\n",
    "\n",
    "def estimate_coef(x,y):\n",
    "    size = np.size(x)\n",
    "    # Calculate Mean of X and Y both\n",
    "    m_x, m_y = np.mean(x), np.mean(y)\n",
    "    # Calculate the Standard and Cross Deviation\n",
    "    # Here sum is summation of entire array\n",
    "    SS_xx = np.sum(x*x) - size * m_x * m_x #Standard Deviation = sum of y*x - n (sub with size) mul by mean of both x and y\n",
    "    SS_xy = np.sum(x*y) - size * m_y * m_x\n",
    "    m = SS_xy / SS_xx\n",
    "    c = m_y - m * m_x\n",
    "    return m,c\n",
    "\n",
    "\n",
    "df = pd.read_csv(\"DOY.csv\")\n",
    "# print(df)\n",
    "x = np.array(df[\"year\"])\n",
    "y = np.array(df[\"age\"])\n",
    "m,c = estimate_coef(x,y)\n",
    "print(x,y)\n",
    "print(m,c)\n",
    "year = int(input(\"Enter DOB : \"))\n",
    "print(\"Age is : \",int((m * year) + c))"
   ]
  },
  {
   "cell_type": "code",
   "execution_count": 4,
   "metadata": {},
   "outputs": [
    {
     "name": "stdout",
     "output_type": "stream",
     "text": [
      "Enter Year : 2013\n",
      "Age is :  [6.]\n"
     ]
    }
   ],
   "source": [
    "# Using sklearn\n",
    "import pandas as pd\n",
    "import numpy as np\n",
    "from sklearn import linear_model\n",
    "\n",
    "df = pd.read_csv(\"DOY.csv\")\n",
    "year = np.array(df[\"year\"])\n",
    "x = year.reshape((-1,1))\n",
    "y = np.array(df[\"age\"])\n",
    "regr = linear_model.LinearRegression()\n",
    "regr.fit(x,y)\n",
    "usryear = int(input(\"Enter Year : \"))\n",
    "\n",
    "print(\"Age is :\",regr.predict([[usryear]]))"
   ]
  },
  {
   "cell_type": "code",
   "execution_count": 10,
   "metadata": {},
   "outputs": [],
   "source": [
    "# Multiple Linear Regression : Stock Market"
   ]
  },
  {
   "cell_type": "code",
   "execution_count": 21,
   "metadata": {},
   "outputs": [
    {
     "name": "stdout",
     "output_type": "stream",
     "text": [
      "1045.486111111111 [ -2.43055556 101.73611111]\n",
      "Predicted Stock Price is : [1078.81944444 1684.72222222 1403.81944444 1330.90277778 1660.41666667\n",
      "  952.77777778 1204.86111111 1636.11111111 1810.76388889 1936.80555556]\n"
     ]
    }
   ],
   "source": [
    "import pandas as pd\n",
    "import numpy as np\n",
    "from sklearn import linear_model\n",
    "from matplotlib import pyplot as plt\n",
    "\n",
    "df = pd.read_csv(\"stocks.csv\")\n",
    "x = df.drop([\"SP\"],axis=1)\n",
    "#x = ds.reshape((-1,1))\n",
    "#x = df[\"SP\"]\n",
    "y = df[\"SP\"]\n",
    "regr = linear_model.LinearRegression()\n",
    "regr.fit(x,y)\n",
    "print(regr.intercept_,regr.coef_)\n",
    "#ur = int(input(\"Enter UR : \"))\n",
    "#ir = int(input(\"Enter IR : \"))\n",
    "\n",
    "stock_price = regr.predict(x)\n",
    "print(\"Predicted Stock Price is :\",stock_price)"
   ]
  },
  {
   "cell_type": "code",
   "execution_count": 7,
   "metadata": {},
   "outputs": [
    {
     "data": {
      "text/html": [
       "<div>\n",
       "<style scoped>\n",
       "    .dataframe tbody tr th:only-of-type {\n",
       "        vertical-align: middle;\n",
       "    }\n",
       "\n",
       "    .dataframe tbody tr th {\n",
       "        vertical-align: top;\n",
       "    }\n",
       "\n",
       "    .dataframe thead th {\n",
       "        text-align: right;\n",
       "    }\n",
       "</style>\n",
       "<table border=\"1\" class=\"dataframe\">\n",
       "  <thead>\n",
       "    <tr style=\"text-align: right;\">\n",
       "      <th></th>\n",
       "      <th>UR</th>\n",
       "      <th>IR</th>\n",
       "      <th>SP</th>\n",
       "    </tr>\n",
       "  </thead>\n",
       "  <tbody>\n",
       "    <tr>\n",
       "      <th>0</th>\n",
       "      <td>70</td>\n",
       "      <td>2</td>\n",
       "      <td>1100</td>\n",
       "    </tr>\n",
       "    <tr>\n",
       "      <th>1</th>\n",
       "      <td>30</td>\n",
       "      <td>7</td>\n",
       "      <td>1700</td>\n",
       "    </tr>\n",
       "    <tr>\n",
       "      <th>2</th>\n",
       "      <td>20</td>\n",
       "      <td>4</td>\n",
       "      <td>1400</td>\n",
       "    </tr>\n",
       "    <tr>\n",
       "      <th>3</th>\n",
       "      <td>50</td>\n",
       "      <td>4</td>\n",
       "      <td>1300</td>\n",
       "    </tr>\n",
       "    <tr>\n",
       "      <th>4</th>\n",
       "      <td>40</td>\n",
       "      <td>7</td>\n",
       "      <td>1700</td>\n",
       "    </tr>\n",
       "    <tr>\n",
       "      <th>5</th>\n",
       "      <td>80</td>\n",
       "      <td>1</td>\n",
       "      <td>1000</td>\n",
       "    </tr>\n",
       "    <tr>\n",
       "      <th>6</th>\n",
       "      <td>60</td>\n",
       "      <td>3</td>\n",
       "      <td>1150</td>\n",
       "    </tr>\n",
       "    <tr>\n",
       "      <th>7</th>\n",
       "      <td>50</td>\n",
       "      <td>7</td>\n",
       "      <td>1600</td>\n",
       "    </tr>\n",
       "    <tr>\n",
       "      <th>8</th>\n",
       "      <td>20</td>\n",
       "      <td>8</td>\n",
       "      <td>1750</td>\n",
       "    </tr>\n",
       "    <tr>\n",
       "      <th>9</th>\n",
       "      <td>10</td>\n",
       "      <td>9</td>\n",
       "      <td>2000</td>\n",
       "    </tr>\n",
       "  </tbody>\n",
       "</table>\n",
       "</div>"
      ],
      "text/plain": [
       "   UR  IR    SP\n",
       "0  70   2  1100\n",
       "1  30   7  1700\n",
       "2  20   4  1400\n",
       "3  50   4  1300\n",
       "4  40   7  1700\n",
       "5  80   1  1000\n",
       "6  60   3  1150\n",
       "7  50   7  1600\n",
       "8  20   8  1750\n",
       "9  10   9  2000"
      ]
     },
     "execution_count": 7,
     "metadata": {},
     "output_type": "execute_result"
    }
   ],
   "source": [
    "df"
   ]
  },
  {
   "cell_type": "code",
   "execution_count": 9,
   "metadata": {},
   "outputs": [],
   "source": [
    "# Visualize Data using MatPlotLib : Based on matlab and C to visualize data in python\n",
    "# Plot default plots line chart"
   ]
  },
  {
   "cell_type": "code",
   "execution_count": 29,
   "metadata": {},
   "outputs": [
    {
     "data": {
      "image/png": "[encoded data removed]",
      "text/plain": [
       "<Figure size 432x288 with 1 Axes>"
      ]
     },
     "metadata": {
      "needs_background": "light"
     },
     "output_type": "display_data"
    },
    {
     "data": {
      "text/plain": [
       "(array([1., 1., 1., 1., 1., 0., 1., 2., 1., 1.]),\n",
       " array([ 952.77777778, 1051.18055556, 1149.58333333, 1247.98611111,\n",
       "        1346.38888889, 1444.79166667, 1543.19444444, 1641.59722222,\n",
       "        1740.        , 1838.40277778, 1936.80555556]),\n",
       " <a list of 10 Patch objects>)"
      ]
     },
     "execution_count": 29,
     "metadata": {},
     "output_type": "execute_result"
    },
    {
     "data": {
      "image/png": "[encoded data removed]",
      "text/plain": [
       "<Figure size 432x288 with 1 Axes>"
      ]
     },
     "metadata": {
      "needs_background": "light"
     },
     "output_type": "display_data"
    }
   ],
   "source": [
    "plt.plot(stock_price,color=\"green\")\n",
    "plt.plot(y,color='red')\n",
    "plt.title(\"Stock vs Actual Stock Prices\")\n",
    "plt.legend([\"Predicted\",\"Actual\"])\n",
    "plt.xlabel(\"Interest Rate\")\n",
    "plt.ylabel(\"Stock Prices\")\n",
    "plt.show()\n",
    "plt.hist(stock_price)\n",
    "plt.bar(x=stock_)"
   ]
  },
  {
   "cell_type": "code",
   "execution_count": null,
   "metadata": {},
   "outputs": [],
   "source": []
  }
 ],
 "metadata": {
  "kernelspec": {
   "display_name": "Python 3",
   "language": "python",
   "name": "python3"
  },
  "language_info": {
   "codemirror_mode": {
    "name": "ipython",
    "version": 3
   },
   "file_extension": ".py",
   "mimetype": "text/x-python",
   "name": "python",
   "nbconvert_exporter": "python",
   "pygments_lexer": "ipython3",
   "version": "3.7.3"
  }
 },
 "nbformat": 4,
 "nbformat_minor": 2
}
