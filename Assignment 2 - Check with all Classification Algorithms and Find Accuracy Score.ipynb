{
 "cells": [
  {
   "cell_type": "code",
   "execution_count": null,
   "metadata": {},
   "outputs": [],
   "source": [
    "# ETL the Dataset\n",
    "# If there are NA then fill out NA or Drop NA's\n",
    "# Apply each algorithm\n",
    "# Find Outliers from DBScan and drop the outliers from Dataset\n",
    "# DTC, RFA, Bagging, Adaboost and rest all classification algorithms and find out the accuracy score"
   ]
  }
 ],
 "metadata": {
  "kernelspec": {
   "display_name": "Python 3",
   "language": "python",
   "name": "python3"
  },
  "language_info": {
   "codemirror_mode": {
    "name": "ipython",
    "version": 3
   },
   "file_extension": ".py",
   "mimetype": "text/x-python",
   "name": "python",
   "nbconvert_exporter": "python",
   "pygments_lexer": "ipython3",
   "version": "3.7.3"
  }
 },
 "nbformat": 4,
 "nbformat_minor": 2
}
