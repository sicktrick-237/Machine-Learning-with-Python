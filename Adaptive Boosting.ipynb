{
 "cells": [
  {
   "cell_type": "code",
   "execution_count": null,
   "metadata": {},
   "outputs": [],
   "source": [
    "# Adaptive Boosting dosen't require the Bass Class for CLassification\n",
    "# AdaBoost considers each tree as a stump with height = 1\n",
    "# Unlike decision tree classifier ADA Boost creates a tree with height = 1\n",
    "# AdaBoost is a Ensemble Classifier\n",
    "# Ensemble Classifer : Ensemble classifier are made up of multiple classifier algorithms \n",
    "# and whose output is combined result of output of those classifier algorithms\n",
    "# AdaBoost is a collection on classifiers which at every training set it sets votes to each classifier and "
   ]
  },
  {
   "cell_type": "code",
   "execution_count": 23,
   "metadata": {},
   "outputs": [
    {
     "name": "stdout",
     "output_type": "stream",
     "text": [
      "Accuracy :  0.9833333333333333\n"
     ]
    }
   ],
   "source": [
    "\n",
    "import pandas as pd\n",
    "from sklearn.ensemble import AdaBoostClassifier\n",
    "from sklearn.model_selection import train_test_split\n",
    "from sklearn import metrics\n",
    "from sklearn.datasets import load_iris\n",
    "\n",
    "\n",
    "\n",
    "iris = load_iris()\n",
    "dataset = pd.DataFrame({\n",
    "    'sepal_length':iris.data[:,0],\n",
    "    'sepal_width':iris.data[:,1],\n",
    "    'petal_length':iris.data[:,2],\n",
    "    'petal_width':iris.data[:,3],\n",
    "    'Class':iris.target\n",
    "})\n",
    "\n",
    "X = dataset.drop('Class',axis=1)\n",
    "y = dataset['Class']\n",
    "\n",
    "\n",
    "X_train, X_test, y_train, y_test = train_test_split(X,y,test_size=0.4)\n",
    "\n",
    "abc = AdaBoostClassifier(n_estimators=100, learning_rate=1.0)\n",
    "abc.fit(X_train,y_train)\n",
    "y_pred = abc.predict(X_test)\n",
    "print('Accuracy : ',metrics.accuracy_score(y_test,y_pred))"
   ]
  },
  {
   "cell_type": "code",
   "execution_count": null,
   "metadata": {},
   "outputs": [],
   "source": []
  },
  {
   "cell_type": "code",
   "execution_count": null,
   "metadata": {},
   "outputs": [],
   "source": []
  }
 ],
 "metadata": {
  "kernelspec": {
   "display_name": "Python 3",
   "language": "python",
   "name": "python3"
  },
  "language_info": {
   "codemirror_mode": {
    "name": "ipython",
    "version": 3
   },
   "file_extension": ".py",
   "mimetype": "text/x-python",
   "name": "python",
   "nbconvert_exporter": "python",
   "pygments_lexer": "ipython3",
   "version": "3.7.3"
  }
 },
 "nbformat": 4,
 "nbformat_minor": 2
}
