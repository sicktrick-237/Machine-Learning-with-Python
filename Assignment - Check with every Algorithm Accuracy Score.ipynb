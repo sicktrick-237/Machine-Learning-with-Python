{
 "cells": [
  {
   "cell_type": "code",
   "execution_count": null,
   "metadata": {},
   "outputs": [],
   "source": [
    "# DTC, Linear Regression, SVC, Logistic Regression"
   ]
  },
  {
   "cell_type": "code",
   "execution_count": 20,
   "metadata": {},
   "outputs": [
    {
     "name": "stderr",
     "output_type": "stream",
     "text": [
      "C:\\Users\\Omkar\\Anaconda3\\lib\\site-packages\\sklearn\\linear_model\\logistic.py:433: FutureWarning: Default solver will be changed to 'lbfgs' in 0.22. Specify a solver to silence this warning.\n",
      "  FutureWarning)\n",
      "C:\\Users\\Omkar\\Anaconda3\\lib\\site-packages\\sklearn\\linear_model\\logistic.py:460: FutureWarning: Default multi_class will be changed to 'auto' in 0.22. Specify the multi_class option to silence this warning.\n",
      "  \"this warning.\", FutureWarning)\n"
     ]
    },
    {
     "data": {
      "text/plain": [
       "<BarContainer object of 3 artists>"
      ]
     },
     "execution_count": 20,
     "metadata": {},
     "output_type": "execute_result"
    },
    {
     "data": {
      "image/png": "[encoded data removed]",
      "text/plain": [
       "<Figure size 432x288 with 1 Axes>"
      ]
     },
     "metadata": {
      "needs_background": "light"
     },
     "output_type": "display_data"
    }
   ],
   "source": [
    "import pandas as pd\n",
    "# Algorithms\n",
    "from sklearn.tree import DecisionTreeClassifier\n",
    "from sklearn.linear_model import LogisticRegression\n",
    "from sklearn.svm import SVC\n",
    "# Metrics and Plotting\n",
    "import sklearn.metrics as metrics # Accuracy score\n",
    "from sklearn.model_selection import train_test_split # Train Test Split\n",
    "from matplotlib import pyplot as plt # Plotting\n",
    "# Dataset\n",
    "from sklearn.datasets import load_iris\n",
    "\n",
    "\n",
    "class Algorithms():\n",
    "    def __init__(self,X=0,y=0):\n",
    "        self.X_train, self.X_test, self.y_train, self.y_test = train_test_split(X,y,test_size=0.2)\n",
    "        \n",
    "    def DTC(self):\n",
    "        dtc = DecisionTreeClassifier()\n",
    "        dtc.fit(self.X_train,self.y_train)\n",
    "        prediction = dtc.predict(self.X_test)\n",
    "        return metrics.accuracy_score(self.y_test,prediction)\n",
    "        \n",
    "    def LogisticReg(self):\n",
    "        log = LogisticRegression()\n",
    "        log.fit(self.X_train,self.y_train)\n",
    "        prediction = log.predict(self.X_test)\n",
    "        return metrics.accuracy_score(self.y_test,prediction)\n",
    "    \n",
    "    def SupportVectorClass(self):\n",
    "        svc = SVC(kernel='poly',gamma='auto')\n",
    "        svc.fit(self.X_train,self.y_train)\n",
    "        prediction = svc.predict(self.X_test)\n",
    "        return metrics.accuracy_score(self.y_test,prediction)\n",
    "\n",
    "\n",
    "# Defining Dataset\n",
    "iris = load_iris()\n",
    "dataset = pd.DataFrame({\n",
    "    'sepal_length':iris.data[:,0],\n",
    "    'sepal_width':iris.data[:,1],\n",
    "    'petal_length':iris.data[:,2],\n",
    "    'petal_width':iris.data[:,3],\n",
    "    'Class':iris.target\n",
    "})\n",
    "\n",
    "X = dataset.drop('Class',axis=1)\n",
    "y = dataset['Class']\n",
    "\n",
    "# Defining a Class Object\n",
    "score = {}\n",
    "algo = Algorithms(X,y)\n",
    "score['Logistic Regression'] = algo.LogisticReg()\n",
    "score['DTC'] = algo.DTC()\n",
    "score['SVC'] = algo.SupportVectorClass()\n",
    "\n",
    "plt.bar(score.keys(),score.values())"
   ]
  },
  {
   "cell_type": "code",
   "execution_count": null,
   "metadata": {},
   "outputs": [],
   "source": []
  },
  {
   "cell_type": "code",
   "execution_count": null,
   "metadata": {},
   "outputs": [],
   "source": []
  }
 ],
 "metadata": {
  "kernelspec": {
   "display_name": "Python 3",
   "language": "python",
   "name": "python3"
  },
  "language_info": {
   "codemirror_mode": {
    "name": "ipython",
    "version": 3
   },
   "file_extension": ".py",
   "mimetype": "text/x-python",
   "name": "python",
   "nbconvert_exporter": "python",
   "pygments_lexer": "ipython3",
   "version": "3.7.3"
  }
 },
 "nbformat": 4,
 "nbformat_minor": 2
}
