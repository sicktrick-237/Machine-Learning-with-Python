{
 "cells": [
  {
   "cell_type": "code",
   "execution_count": 52,
   "metadata": {},
   "outputs": [
    {
     "name": "stdout",
     "output_type": "stream",
     "text": [
      "Accuracy 0.7455\n"
     ]
    },
    {
     "data": {
      "text/plain": [
       "array([[752, 255],\n",
       "       [254, 739]], dtype=int64)"
      ]
     },
     "execution_count": 52,
     "metadata": {},
     "output_type": "execute_result"
    }
   ],
   "source": [
    "import pandas as pd\n",
    "from sklearn.tree import DecisionTreeClassifier\n",
    "from sklearn.model_selection import train_test_split\n",
    "from sklearn import metrics\n",
    "\n",
    "\n",
    "df = pd.read_csv('wt-ht.csv')\n",
    "X = df.drop(['Gender','Weight'],axis=1) # Stored wt and ht in X by dropping Class\n",
    "# Dropping Height and Weight each iteratively decreases and increases the accuracy score\n",
    "\n",
    "y = df['Gender'] # Storing only Class\n",
    "X_train, X_test, y_train, y_test = train_test_split(X,y,test_size=0.2,random=0)\n",
    "# Random State - specifies the random number, once set it do not change.\n",
    "\n",
    "classifier = DecisionTreeClassifier() # DecisionTreeClassifier is a class and we are making an instance of it\n",
    "classifier.fit(X_train,y_train)\n",
    "y_pred = classifier.predict(X_test)\n",
    "print('Accuracy',metrics.accuracy_score(y_test,y_pred))\n",
    "metrics.confusion_matrix(y_test,y_pred)\n"
   ]
  },
  {
   "cell_type": "code",
   "execution_count": null,
   "metadata": {},
   "outputs": [],
   "source": [
    "# PCA - Principal Component Analysis is a Dimentionality reduction technique, specifies which parameter is more important to give accuracy \n",
    "# Implementing PCA, by taking each parameter and chekcing with it's accuracy whether"
   ]
  },
  {
   "cell_type": "code",
   "execution_count": null,
   "metadata": {},
   "outputs": [],
   "source": []
  }
 ],
 "metadata": {
  "kernelspec": {
   "display_name": "Python 3",
   "language": "python",
   "name": "python3"
  },
  "language_info": {
   "codemirror_mode": {
    "name": "ipython",
    "version": 3
   },
   "file_extension": ".py",
   "mimetype": "text/x-python",
   "name": "python",
   "nbconvert_exporter": "python",
   "pygments_lexer": "ipython3",
   "version": "3.7.3"
  }
 },
 "nbformat": 4,
 "nbformat_minor": 2
}
